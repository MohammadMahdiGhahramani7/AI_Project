{
  "cells": [
    {
      "cell_type": "code",
      "execution_count": 1,
      "metadata": {
        "id": "OTVrMpKLxDER"
      },
      "outputs": [],
      "source": [
        "import warnings\n",
        "warnings.filterwarnings(\"ignore\")\n",
        "import numpy as np\n",
        "import matplotlib.pyplot as plt\n",
        "import emoji\n",
        "import csv"
      ]
    },
    {
      "cell_type": "markdown",
      "source": [
        "#Loading the data and preprocessing"
      ],
      "metadata": {
        "id": "-bvhHWW8pUGR"
      }
    },
    {
      "cell_type": "code",
      "execution_count": 45,
      "metadata": {
        "id": "H-8iYoZdxDEV"
      },
      "outputs": [],
      "source": [
        "emoji_dictionary = {\"0\": \"\\u2764\\uFE0F\",    # :heart: prints a black instead of red heart depending on the font\n",
        "                    \"1\": \":baseball:\",\n",
        "                    \"2\": \":smile:\",\n",
        "                    \"3\": \":disappointed:\",\n",
        "                    \"4\": \":fork_and_knife:\"}\n",
        "\n",
        "def read_csv(filename):\n",
        "    phrase = []\n",
        "    emoji = []\n",
        "\n",
        "    with open (filename) as csvDataFile:\n",
        "        csvReader = csv.reader(csvDataFile)\n",
        "\n",
        "        for row in csvReader:\n",
        "            phrase.append(row[0])\n",
        "            emoji.append(row[1])\n",
        "\n",
        "    X = np.asarray(phrase)\n",
        "    Y = np.asarray(emoji, dtype=int)\n",
        "\n",
        "    return X, Y\n",
        "\n",
        "def label_to_emoji(label):\n",
        "\n",
        "    return emoji.emojize(emoji_dictionary[str(label)], use_aliases=True)\n",
        "\n",
        "def convert_to_one_hot(Y, C):\n",
        "    Y = np.eye(C)[Y.reshape(-1)]\n",
        "    return Y\n",
        "\n",
        "def read_glove_vecs(glove_file):\n",
        "    with open(glove_file, 'r') as f:\n",
        "        words = set()\n",
        "        word_to_vec_map = {}\n",
        "        for line in f:\n",
        "            line = line.strip().split()\n",
        "            curr_word = line[0]\n",
        "            words.add(curr_word)\n",
        "            word_to_vec_map[curr_word] = np.array(line[1:], dtype=np.float64)\n",
        "        \n",
        "        i = 1\n",
        "        words_to_index = {}\n",
        "        index_to_words = {}\n",
        "        for w in sorted(words):\n",
        "            words_to_index[w] = i\n",
        "            index_to_words[i] = w\n",
        "            i = i + 1\n",
        "    return words_to_index, index_to_words, word_to_vec_map\n",
        "\n",
        "def softmax(x):\n",
        "\n",
        "    e_x = np.exp(x - np.max(x))\n",
        "    return e_x / e_x.sum()\n",
        "\n",
        "def predict(X, Y, W, b, word_to_vec_map):\n",
        "\n",
        "    m = X.shape[0]\n",
        "    pred = np.zeros((m, 1))\n",
        "    \n",
        "    for j in range(m):\n",
        "        \n",
        "        words = X[j].lower().split()\n",
        "        \n",
        "        # Average words' vectors\n",
        "        avg = np.zeros((50,))\n",
        "        for w in words:\n",
        "            avg += word_to_vec_map[w]\n",
        "        avg = avg/len(words)\n",
        "\n",
        "        Z = np.dot(W, avg) + b\n",
        "        A = softmax(Z)\n",
        "        pred[j] = np.argmax(A)\n",
        "        \n",
        "    print(\"Accuracy: \"  + str(np.mean((pred[:] == Y.reshape(Y.shape[0],1)[:]))))\n",
        "    \n",
        "    return pred\n",
        "\n",
        "def print_predictions(X, pred):\n",
        "    print()\n",
        "    for i in range(X.shape[0]):\n",
        "        print(X[i], label_to_emoji(int(pred[i])))"
      ]
    },
    {
      "cell_type": "code",
      "execution_count": 46,
      "metadata": {
        "id": "E4Ypp-ZLxDEY"
      },
      "outputs": [],
      "source": [
        "X_train, Y_train = read_csv('train.csv')\n",
        "X_test, Y_test = read_csv('test.csv')"
      ]
    },
    {
      "cell_type": "code",
      "execution_count": 47,
      "metadata": {
        "id": "rdSFkR-LxDEZ"
      },
      "outputs": [],
      "source": [
        "maxLen = len(max(X_train, key=len).split())\n",
        "#the longest string has 10 words"
      ]
    },
    {
      "cell_type": "code",
      "execution_count": 48,
      "metadata": {
        "colab": {
          "base_uri": "https://localhost:8080/"
        },
        "id": "J0QPalStxDEa",
        "outputId": "76aaa4a7-1eb6-4af8-8525-d102b7e96120"
      },
      "outputs": [
        {
          "output_type": "execute_result",
          "data": {
            "text/plain": [
              "10"
            ]
          },
          "metadata": {},
          "execution_count": 48
        }
      ],
      "source": [
        "maxLen"
      ]
    },
    {
      "cell_type": "code",
      "execution_count": 49,
      "metadata": {
        "colab": {
          "base_uri": "https://localhost:8080/"
        },
        "id": "Z79rZv7AxDEc",
        "outputId": "fb0b19e1-6b03-4833-b4f0-220d433b6528"
      },
      "outputs": [
        {
          "output_type": "stream",
          "name": "stdout",
          "text": [
            "I am proud of your achievements 😄\n"
          ]
        }
      ],
      "source": [
        "index = 1\n",
        "print(X_train[index], label_to_emoji(Y_train[index]))"
      ]
    },
    {
      "cell_type": "code",
      "execution_count": 50,
      "metadata": {
        "id": "GA6aTuUvxDEc"
      },
      "outputs": [],
      "source": [
        "Y_oh_train = convert_to_one_hot(Y_train, C = 5)\n",
        "Y_oh_test = convert_to_one_hot(Y_test, C = 5)"
      ]
    },
    {
      "cell_type": "code",
      "execution_count": 51,
      "metadata": {
        "colab": {
          "base_uri": "https://localhost:8080/"
        },
        "id": "WaR_AKQ7xDEd",
        "outputId": "17c14306-9a98-4457-d0e3-9f886028c1d7"
      },
      "outputs": [
        {
          "output_type": "stream",
          "name": "stdout",
          "text": [
            "0 is converted into one hot [1. 0. 0. 0. 0.]\n"
          ]
        }
      ],
      "source": [
        "index = 50\n",
        "print(Y_train[index], \"is converted into one hot\", Y_oh_train[index])"
      ]
    },
    {
      "cell_type": "code",
      "execution_count": 52,
      "metadata": {
        "id": "gnn6L3v5xDEe"
      },
      "outputs": [],
      "source": [
        "word_to_index, index_to_word, word_to_vec_map = read_glove_vecs('glove.6B.50d.txt')"
      ]
    },
    {
      "cell_type": "code",
      "execution_count": 54,
      "metadata": {
        "colab": {
          "base_uri": "https://localhost:8080/"
        },
        "id": "qWF-g7qpxDEf",
        "outputId": "b49e46d0-895c-47f9-bd9e-2222ef3ac809"
      },
      "outputs": [
        {
          "output_type": "stream",
          "name": "stdout",
          "text": [
            "the index of apple in the vocabulary is 57797\n",
            "the 82305th word in the vocabulary is boyer\n"
          ]
        }
      ],
      "source": [
        "word = \"apple\"\n",
        "index = 82305\n",
        "print(\"the index of\", word, \"in the vocabulary is\", word_to_index[word])\n",
        "print(\"the\", str(index) + \"th word in the vocabulary is\", index_to_word[index])"
      ]
    },
    {
      "cell_type": "markdown",
      "source": [
        "#Approach 1"
      ],
      "metadata": {
        "id": "lTllGdnoog5z"
      }
    },
    {
      "cell_type": "code",
      "execution_count": 36,
      "metadata": {
        "id": "uLQtRVpYxDEf"
      },
      "outputs": [],
      "source": [
        "def sentence_to_avg(sentence, word_to_vec_map):\n",
        "\n",
        "    words = sentence.lower().split()\n",
        "\n",
        "    avg = np.zeros((50,))\n",
        "    \n",
        "    for w in words:\n",
        "        avg += word_to_vec_map[w]\n",
        "    avg = avg / len(words)\n",
        "        \n",
        "    return avg"
      ]
    },
    {
      "cell_type": "code",
      "execution_count": 37,
      "metadata": {
        "colab": {
          "base_uri": "https://localhost:8080/"
        },
        "id": "LwciDFIPxDEg",
        "outputId": "e6d2616d-a2ca-427c-b65e-0c642df0d706"
      },
      "outputs": [
        {
          "output_type": "stream",
          "name": "stdout",
          "text": [
            "avg =  [-0.008005    0.56370833 -0.50427333  0.258865    0.55131103  0.03104983\n",
            " -0.21013718  0.16893933 -0.09590267  0.141784   -0.15708967  0.18525867\n",
            "  0.6495785   0.38371117  0.21102167  0.11301667  0.02613967  0.26037767\n",
            "  0.05820667 -0.01578167 -0.12078833 -0.02471267  0.4128455   0.5152061\n",
            "  0.38756167 -0.898661   -0.535145    0.33501167  0.68806933 -0.2156265\n",
            "  1.797155    0.10476933 -0.36775333  0.750785    0.10282583  0.348925\n",
            " -0.27262833  0.66768    -0.10706167 -0.283635    0.59580117  0.28747333\n",
            " -0.3366635   0.23393817  0.34349183  0.178405    0.1166155  -0.076433\n",
            "  0.1445417   0.09808667]\n"
          ]
        }
      ],
      "source": [
        "avg = sentence_to_avg(\"Morrocan couscous is my favorite dish\", word_to_vec_map)\n",
        "print(\"avg = \", avg)"
      ]
    },
    {
      "cell_type": "code",
      "execution_count": 38,
      "metadata": {
        "id": "hAMKtZvAxDEg"
      },
      "outputs": [],
      "source": [
        "def model(X, Y, word_to_vec_map, learning_rate = 0.01, num_iterations = 400):\n",
        "    \n",
        "    np.random.seed(1)\n",
        "\n",
        "    m = Y.shape[0]  # number of training examples\n",
        "    n_y = 5         # number of classes  \n",
        "    n_h = 50        # dimensions of the GloVe vectors \n",
        "    \n",
        "    W = np.random.randn(n_y, n_h) / np.sqrt(n_h)\n",
        "    b = np.zeros((n_y,))\n",
        "    \n",
        "    Y_oh = convert_to_one_hot(Y, C = n_y) \n",
        "    \n",
        "    for t in range(num_iterations): # Loop over the number of iterations\n",
        "        for i in range(m):          # Loop over the training examples\n",
        "            \n",
        "            avg = sentence_to_avg(X[i], word_to_vec_map)\n",
        "\n",
        "            z = np.dot(W, avg) + b\n",
        "            a = softmax(z)\n",
        "\n",
        "            cost = -np.sum(Y_oh[i] * np.log(a))\n",
        "            \n",
        "            dz = a - Y_oh[i]\n",
        "            dW = np.dot(dz.reshape(n_y,1), avg.reshape(1, n_h))\n",
        "            db = dz\n",
        "\n",
        "            W = W - learning_rate * dW\n",
        "            b = b - learning_rate * db\n",
        "        \n",
        "        if t % 100 == 0:\n",
        "            print(\"Epoch: \" + str(t) + \" --- cost = \" + str(cost))\n",
        "            pred = predict(X, Y, W, b, word_to_vec_map)\n",
        "\n",
        "    return pred, W, b"
      ]
    },
    {
      "cell_type": "code",
      "execution_count": 42,
      "metadata": {
        "id": "wYjjRfU6xDEh",
        "outputId": "f16276ac-898f-444e-9f18-a46d7fb6707a",
        "colab": {
          "base_uri": "https://localhost:8080/"
        }
      },
      "outputs": [
        {
          "output_type": "stream",
          "name": "stdout",
          "text": [
            "Epoch: 0 --- cost = 1.9520498812810076\n",
            "Accuracy: 0.2684848484848485\n",
            "Epoch: 100 --- cost = 0.07971818726014794\n",
            "Accuracy: 0.8518181818181818\n",
            "Epoch: 200 --- cost = 0.04456369243681402\n",
            "Accuracy: 0.8745454545454546\n",
            "Epoch: 300 --- cost = 0.03432267378786059\n",
            "Accuracy: 0.8896969696969698\n"
          ]
        }
      ],
      "source": [
        "pred, W, b = model(X_train, Y_train, word_to_vec_map)"
      ]
    },
    {
      "cell_type": "code",
      "execution_count": 43,
      "metadata": {
        "id": "4UGga3E4xDEh",
        "outputId": "1268193d-f702-4a04-93dc-b9b22f3969e7",
        "colab": {
          "base_uri": "https://localhost:8080/"
        }
      },
      "outputs": [
        {
          "output_type": "stream",
          "name": "stdout",
          "text": [
            "Training set:\n",
            "Accuracy: 0.8972727272727273\n",
            "Test set:\n",
            "Accuracy: 0.7771428571428571\n"
          ]
        }
      ],
      "source": [
        "print(\"Training set:\")\n",
        "pred_train = predict(X_train, Y_train, W, b, word_to_vec_map)\n",
        "print('Test set:')\n",
        "pred_test = predict(X_test, Y_test, W, b, word_to_vec_map)"
      ]
    },
    {
      "cell_type": "code",
      "execution_count": 57,
      "metadata": {
        "id": "9CzhodIgxDEh",
        "outputId": "a22c04b7-7d84-4b0e-f9b6-74f6dd5e0492",
        "colab": {
          "base_uri": "https://localhost:8080/"
        }
      },
      "outputs": [
        {
          "output_type": "stream",
          "name": "stdout",
          "text": [
            "Accuracy: 0.8571428571428571\n",
            "\n",
            "I beg you 😞\n",
            "i adore you ❤️\n",
            "i love you ❤️\n",
            "funny lol 😄\n",
            "lets play with a ball ⚾\n",
            "food is ready 🍴\n",
            "not feeling happy 😄\n"
          ]
        }
      ],
      "source": [
        "X_my_sentences = np.array([\"I beg you\",\"i adore you\", \"i love you\", \"funny lol\",\n",
        "                           \"lets play with a ball\", \"food is ready\",\n",
        "                           \"not feeling happy\"])\n",
        "\n",
        "Y_my_labels = np.array([[3], [0], [0], [2], [1], [4],[3]])\n",
        "\n",
        "pred = predict(X_my_sentences, Y_my_labels , W, b, word_to_vec_map)\n",
        "print_predictions(X_my_sentences, pred)"
      ]
    },
    {
      "cell_type": "markdown",
      "source": [
        "#Approach 2"
      ],
      "metadata": {
        "id": "6EHyr2pQpI8p"
      }
    },
    {
      "cell_type": "code",
      "execution_count": 18,
      "metadata": {
        "id": "8tpZfr_qxDEi"
      },
      "outputs": [],
      "source": [
        "import numpy as np\n",
        "np.random.seed(0)\n",
        "from tensorflow.keras.models import Model\n",
        "from tensorflow.keras.layers import Dense, Input, Dropout, LSTM, Activation\n",
        "from keras.layers.embeddings import Embedding\n",
        "from tensorflow.keras.preprocessing import sequence\n",
        "from tensorflow.keras.initializers import glorot_uniform"
      ]
    },
    {
      "cell_type": "code",
      "execution_count": 19,
      "metadata": {
        "id": "zPS3JXpMxDEi"
      },
      "outputs": [],
      "source": [
        "def sentences_to_indices(X, word_to_index, max_len):\n",
        "    \n",
        "    m = X.shape[0]  # number of training examples\n",
        "    \n",
        "    # Initialize X_indices as a numpy matrix of zeros and the correct shape (≈ 1 line)\n",
        "    X_indices = np.zeros((m, max_len))\n",
        "    \n",
        "    for i in range(m):  # loop over training examples\n",
        "        \n",
        "        # Convert the ith training sentence in lower case and split is into words. You should get a list of words.\n",
        "        sentence_words =X[i].lower().split()\n",
        "        \n",
        "        # Initialize j to 0\n",
        "        j = 0\n",
        "        \n",
        "        # Loop over the words of sentence_words\n",
        "        for w in sentence_words:\n",
        "            # Set the (i,j)th entry of X_indices to the index of the correct word.\n",
        "            X_indices[i, j] = word_to_index[w]\n",
        "            j = j + 1\n",
        "                \n",
        "    return X_indices"
      ]
    },
    {
      "cell_type": "code",
      "execution_count": 20,
      "metadata": {
        "id": "5gIAX3pVxDEj",
        "outputId": "2b55324c-0aef-44bc-96ae-f362c1fbcf21",
        "colab": {
          "base_uri": "https://localhost:8080/"
        }
      },
      "outputs": [
        {
          "output_type": "stream",
          "name": "stdout",
          "text": [
            "X1 = ['funny lol' 'lets play baseball' 'food is ready for you']\n",
            "X1_indices = [[155345. 225122.      0.      0.      0.]\n",
            " [220930. 286375.  69714.      0.      0.]\n",
            " [151204. 192973. 302254. 151349. 394475.]]\n"
          ]
        }
      ],
      "source": [
        "X1 = np.array([\"funny lol\", \"lets play baseball\", \"food is ready for you\"])\n",
        "X1_indices = sentences_to_indices(X1,word_to_index, max_len = 5)\n",
        "print(\"X1 =\", X1)\n",
        "print(\"X1_indices =\", X1_indices)"
      ]
    },
    {
      "cell_type": "code",
      "execution_count": 21,
      "metadata": {
        "id": "rhbZxmx7xDEj"
      },
      "outputs": [],
      "source": [
        "def pretrained_embedding_layer(word_to_vec_map, word_to_index):\n",
        "    \n",
        "    vocab_len = len(word_to_index) + 1                  # adding 1 to fit Keras embedding (requirement)\n",
        "    emb_dim = word_to_vec_map[\"cucumber\"].shape[0]      # define dimensionality of your GloVe word vectors (= 50)\n",
        "    \n",
        "    # Initialize the embedding matrix as a numpy array of zeros of shape (vocab_len, dimensions of word vectors = emb_dim)\n",
        "    emb_matrix = np.zeros((vocab_len, emb_dim))\n",
        "    \n",
        "    # Set each row \"index\" of the embedding matrix to be the word vector representation of the \"index\"th word of the vocabulary\n",
        "    for word, index in word_to_index.items():\n",
        "        emb_matrix[index, :] = word_to_vec_map[word]\n",
        "\n",
        "    # Define Keras embedding layer with the correct output/input sizes, make it trainable. Use Embedding(...). Make sure to set trainable=False. \n",
        "    embedding_layer = Embedding(vocab_len, emb_dim, trainable=False)\n",
        "\n",
        "    # Build the embedding layer, it is required before setting the weights of the embedding layer. Do not modify the \"None\".\n",
        "    embedding_layer.build((None,))\n",
        "    \n",
        "    # Set the weights of the embedding layer to the embedding matrix. Your layer is now pretrained.\n",
        "    embedding_layer.set_weights([emb_matrix])\n",
        "    \n",
        "    return embedding_layer"
      ]
    },
    {
      "cell_type": "code",
      "execution_count": 22,
      "metadata": {
        "id": "nRJcvdDcxDEk",
        "outputId": "35e9b092-f234-41c7-c8d0-dbc714aaf049",
        "colab": {
          "base_uri": "https://localhost:8080/"
        }
      },
      "outputs": [
        {
          "output_type": "stream",
          "name": "stdout",
          "text": [
            "weights[0][1][3] = -0.3403\n"
          ]
        }
      ],
      "source": [
        "embedding_layer = pretrained_embedding_layer(word_to_vec_map, word_to_index)\n",
        "print(\"weights[0][1][3] =\", embedding_layer.get_weights()[0][1][3])"
      ]
    },
    {
      "cell_type": "code",
      "execution_count": 23,
      "metadata": {
        "id": "gN_xiXyQxDEk"
      },
      "outputs": [],
      "source": [
        "def Emojify_V2(input_shape, word_to_vec_map, word_to_index):\n",
        "    \n",
        "    sentence_indices = Input(input_shape, dtype='int32')\n",
        "    \n",
        "    embedding_layer = pretrained_embedding_layer(word_to_vec_map, word_to_index)\n",
        "    \n",
        "    embeddings = embedding_layer(sentence_indices)    \n",
        "    \n",
        "    X = LSTM(128, return_sequences=True)(embeddings)\n",
        "    X = Dropout(0.5)(X)\n",
        "    X = LSTM(128, return_sequences=False)(X)\n",
        "    X = Dropout(0.5)(X)\n",
        "    X = Dense(5)(X)\n",
        "    X = Activation('softmax')(X)\n",
        "    \n",
        "    model = Model(inputs=sentence_indices, outputs=X)\n",
        "        \n",
        "    return model"
      ]
    },
    {
      "cell_type": "code",
      "execution_count": 24,
      "metadata": {
        "id": "0X8yPzOvxDEk",
        "outputId": "169986b4-9752-40b9-c948-4b55c576b32a",
        "colab": {
          "base_uri": "https://localhost:8080/"
        }
      },
      "outputs": [
        {
          "output_type": "stream",
          "name": "stdout",
          "text": [
            "Model: \"model\"\n",
            "_________________________________________________________________\n",
            " Layer (type)                Output Shape              Param #   \n",
            "=================================================================\n",
            " input_1 (InputLayer)        [(None, 10)]              0         \n",
            "                                                                 \n",
            " embedding_1 (Embedding)     (None, 10, 50)            20000050  \n",
            "                                                                 \n",
            " lstm (LSTM)                 (None, 10, 128)           91648     \n",
            "                                                                 \n",
            " dropout (Dropout)           (None, 10, 128)           0         \n",
            "                                                                 \n",
            " lstm_1 (LSTM)               (None, 128)               131584    \n",
            "                                                                 \n",
            " dropout_1 (Dropout)         (None, 128)               0         \n",
            "                                                                 \n",
            " dense (Dense)               (None, 5)                 645       \n",
            "                                                                 \n",
            " activation (Activation)     (None, 5)                 0         \n",
            "                                                                 \n",
            "=================================================================\n",
            "Total params: 20,223,927\n",
            "Trainable params: 223,877\n",
            "Non-trainable params: 20,000,050\n",
            "_________________________________________________________________\n"
          ]
        }
      ],
      "source": [
        "model = Emojify_V2((maxLen,), word_to_vec_map, word_to_index)\n",
        "model.summary()"
      ]
    },
    {
      "cell_type": "code",
      "execution_count": 25,
      "metadata": {
        "id": "YQvrnayCxDEk"
      },
      "outputs": [],
      "source": [
        "model.compile(loss='categorical_crossentropy', optimizer='adam', metrics=['accuracy'])"
      ]
    },
    {
      "cell_type": "code",
      "execution_count": 26,
      "metadata": {
        "id": "czXfLzLSxDEl"
      },
      "outputs": [],
      "source": [
        "X_train_indices = sentences_to_indices(X_train, word_to_index, maxLen)\n",
        "Y_train_oh = convert_to_one_hot(Y_train, C = 5)"
      ]
    },
    {
      "cell_type": "code",
      "execution_count": 27,
      "metadata": {
        "id": "bLFBVT8rxDEl",
        "outputId": "6157f71c-3100-42b7-d4ad-52896597e693",
        "colab": {
          "base_uri": "https://localhost:8080/"
        }
      },
      "outputs": [
        {
          "output_type": "stream",
          "name": "stdout",
          "text": [
            "Epoch 1/50\n",
            "5/5 [==============================] - 4s 31ms/step - loss: 1.5826 - accuracy: 0.2727\n",
            "Epoch 2/50\n",
            "5/5 [==============================] - 0s 27ms/step - loss: 1.5028 - accuracy: 0.3636\n",
            "Epoch 3/50\n",
            "5/5 [==============================] - 0s 25ms/step - loss: 1.4644 - accuracy: 0.3636\n",
            "Epoch 4/50\n",
            "5/5 [==============================] - 0s 25ms/step - loss: 1.3938 - accuracy: 0.4773\n",
            "Epoch 5/50\n",
            "5/5 [==============================] - 0s 28ms/step - loss: 1.3182 - accuracy: 0.5000\n",
            "Epoch 6/50\n",
            "5/5 [==============================] - 0s 24ms/step - loss: 1.1922 - accuracy: 0.5985\n",
            "Epoch 7/50\n",
            "5/5 [==============================] - 0s 24ms/step - loss: 1.0897 - accuracy: 0.5758\n",
            "Epoch 8/50\n",
            "5/5 [==============================] - 0s 27ms/step - loss: 1.0178 - accuracy: 0.5985\n",
            "Epoch 9/50\n",
            "5/5 [==============================] - 0s 25ms/step - loss: 0.8440 - accuracy: 0.6894\n",
            "Epoch 10/50\n",
            "5/5 [==============================] - 0s 26ms/step - loss: 0.7846 - accuracy: 0.6591\n",
            "Epoch 11/50\n",
            "5/5 [==============================] - 0s 24ms/step - loss: 0.7288 - accuracy: 0.7348\n",
            "Epoch 12/50\n",
            "5/5 [==============================] - 0s 24ms/step - loss: 0.6584 - accuracy: 0.7348\n",
            "Epoch 13/50\n",
            "5/5 [==============================] - 0s 25ms/step - loss: 0.5670 - accuracy: 0.7576\n",
            "Epoch 14/50\n",
            "5/5 [==============================] - 0s 25ms/step - loss: 0.4887 - accuracy: 0.8409\n",
            "Epoch 15/50\n",
            "5/5 [==============================] - 0s 25ms/step - loss: 0.4453 - accuracy: 0.8409\n",
            "Epoch 16/50\n",
            "5/5 [==============================] - 0s 25ms/step - loss: 0.5870 - accuracy: 0.8106\n",
            "Epoch 17/50\n",
            "5/5 [==============================] - 0s 24ms/step - loss: 0.4009 - accuracy: 0.8485\n",
            "Epoch 18/50\n",
            "5/5 [==============================] - 0s 24ms/step - loss: 0.4476 - accuracy: 0.8409\n",
            "Epoch 19/50\n",
            "5/5 [==============================] - 0s 25ms/step - loss: 0.3653 - accuracy: 0.8788\n",
            "Epoch 20/50\n",
            "5/5 [==============================] - 0s 24ms/step - loss: 0.3010 - accuracy: 0.9091\n",
            "Epoch 21/50\n",
            "5/5 [==============================] - 0s 25ms/step - loss: 0.3140 - accuracy: 0.8864\n",
            "Epoch 22/50\n",
            "5/5 [==============================] - 0s 24ms/step - loss: 0.2049 - accuracy: 0.9470\n",
            "Epoch 23/50\n",
            "5/5 [==============================] - 0s 27ms/step - loss: 0.1625 - accuracy: 0.9318\n",
            "Epoch 24/50\n",
            "5/5 [==============================] - 0s 25ms/step - loss: 0.2039 - accuracy: 0.9242\n",
            "Epoch 25/50\n",
            "5/5 [==============================] - 0s 25ms/step - loss: 0.5203 - accuracy: 0.8561\n",
            "Epoch 26/50\n",
            "5/5 [==============================] - 0s 26ms/step - loss: 0.5901 - accuracy: 0.7955\n",
            "Epoch 27/50\n",
            "5/5 [==============================] - 0s 28ms/step - loss: 0.2776 - accuracy: 0.8788\n",
            "Epoch 28/50\n",
            "5/5 [==============================] - 0s 28ms/step - loss: 0.1729 - accuracy: 0.9545\n",
            "Epoch 29/50\n",
            "5/5 [==============================] - 0s 25ms/step - loss: 0.2110 - accuracy: 0.9394\n",
            "Epoch 30/50\n",
            "5/5 [==============================] - 0s 24ms/step - loss: 0.1658 - accuracy: 0.9545\n",
            "Epoch 31/50\n",
            "5/5 [==============================] - 0s 25ms/step - loss: 0.1283 - accuracy: 0.9621\n",
            "Epoch 32/50\n",
            "5/5 [==============================] - 0s 24ms/step - loss: 0.1242 - accuracy: 0.9470\n",
            "Epoch 33/50\n",
            "5/5 [==============================] - 0s 24ms/step - loss: 0.1049 - accuracy: 0.9621\n",
            "Epoch 34/50\n",
            "5/5 [==============================] - 0s 25ms/step - loss: 0.0993 - accuracy: 0.9394\n",
            "Epoch 35/50\n",
            "5/5 [==============================] - 0s 25ms/step - loss: 0.2698 - accuracy: 0.9167\n",
            "Epoch 36/50\n",
            "5/5 [==============================] - 0s 25ms/step - loss: 0.3513 - accuracy: 0.9015\n",
            "Epoch 37/50\n",
            "5/5 [==============================] - 0s 25ms/step - loss: 0.2301 - accuracy: 0.9167\n",
            "Epoch 38/50\n",
            "5/5 [==============================] - 0s 27ms/step - loss: 0.3163 - accuracy: 0.8561\n",
            "Epoch 39/50\n",
            "5/5 [==============================] - 0s 24ms/step - loss: 0.2208 - accuracy: 0.9318\n",
            "Epoch 40/50\n",
            "5/5 [==============================] - 0s 24ms/step - loss: 0.1579 - accuracy: 0.9697\n",
            "Epoch 41/50\n",
            "5/5 [==============================] - 0s 24ms/step - loss: 0.1470 - accuracy: 0.9470\n",
            "Epoch 42/50\n",
            "5/5 [==============================] - 0s 24ms/step - loss: 0.1036 - accuracy: 0.9773\n",
            "Epoch 43/50\n",
            "5/5 [==============================] - 0s 24ms/step - loss: 0.0841 - accuracy: 0.9848\n",
            "Epoch 44/50\n",
            "5/5 [==============================] - 0s 24ms/step - loss: 0.0755 - accuracy: 0.9773\n",
            "Epoch 45/50\n",
            "5/5 [==============================] - 0s 25ms/step - loss: 0.0772 - accuracy: 0.9773\n",
            "Epoch 46/50\n",
            "5/5 [==============================] - 0s 27ms/step - loss: 0.1354 - accuracy: 0.9621\n",
            "Epoch 47/50\n",
            "5/5 [==============================] - 0s 24ms/step - loss: 0.0582 - accuracy: 0.9773\n",
            "Epoch 48/50\n",
            "5/5 [==============================] - 0s 24ms/step - loss: 0.0899 - accuracy: 0.9621\n",
            "Epoch 49/50\n",
            "5/5 [==============================] - 0s 24ms/step - loss: 0.0532 - accuracy: 0.9848\n",
            "Epoch 50/50\n",
            "5/5 [==============================] - 0s 26ms/step - loss: 0.0576 - accuracy: 0.9697\n"
          ]
        },
        {
          "output_type": "execute_result",
          "data": {
            "text/plain": [
              "<keras.callbacks.History at 0x7f9de2804850>"
            ]
          },
          "metadata": {},
          "execution_count": 27
        }
      ],
      "source": [
        "model.fit(X_train_indices, Y_train_oh, epochs = 50, batch_size = 32, shuffle=True)"
      ]
    },
    {
      "cell_type": "code",
      "execution_count": 28,
      "metadata": {
        "id": "lIDWppipxDEl",
        "outputId": "c475a500-9ef3-427a-f40e-ef2ea0e36c55",
        "colab": {
          "base_uri": "https://localhost:8080/"
        }
      },
      "outputs": [
        {
          "output_type": "stream",
          "name": "stdout",
          "text": [
            "2/2 [==============================] - 1s 11ms/step - loss: 0.6780 - accuracy: 0.8214\n",
            "\n",
            "Test accuracy =  0.8214285969734192\n"
          ]
        }
      ],
      "source": [
        "X_test_indices = sentences_to_indices(X_test, word_to_index, max_len = maxLen)\n",
        "Y_test_oh = convert_to_one_hot(Y_test, C = 5)\n",
        "loss, acc = model.evaluate(X_test_indices, Y_test_oh)\n",
        "print()\n",
        "print(\"Test accuracy = \", acc)"
      ]
    },
    {
      "cell_type": "code",
      "execution_count": 29,
      "metadata": {
        "id": "5Epor2jRxDEl",
        "outputId": "c068e002-a45f-4a0f-b964-270b96425576",
        "colab": {
          "base_uri": "https://localhost:8080/"
        }
      },
      "outputs": [
        {
          "output_type": "stream",
          "name": "stdout",
          "text": [
            "Expected emoji:😄 prediction: she got me a nice present\t❤️\n",
            "Expected emoji:😞 prediction: work is hard\t😄\n",
            "Expected emoji:😞 prediction: This girl is messing with me\t❤️\n",
            "Expected emoji:😞 prediction: work is horrible\t😄\n",
            "Expected emoji:😄 prediction: you brighten my day\t❤️\n",
            "Expected emoji:😞 prediction: she is a bully\t😄\n",
            "Expected emoji:😞 prediction: My life is so boring\t❤️\n",
            "Expected emoji:😄 prediction: will you be my valentine\t❤️\n",
            "Expected emoji:😞 prediction: go away\t⚾\n",
            "Expected emoji:😞 prediction: yesterday we lost again\t⚾\n"
          ]
        }
      ],
      "source": [
        "C = 5\n",
        "y_test_oh = np.eye(C)[Y_test.reshape(-1)]\n",
        "X_test_indices = sentences_to_indices(X_test, word_to_index, maxLen)\n",
        "pred = model.predict(X_test_indices)\n",
        "for i in range(len(X_test)):\n",
        "    x = X_test_indices\n",
        "    num = np.argmax(pred[i])\n",
        "    if(num != Y_test[i]):\n",
        "        print('Expected emoji:'+ label_to_emoji(Y_test[i]) + ' prediction: '+ X_test[i] + label_to_emoji(num).strip())"
      ]
    },
    {
      "cell_type": "code",
      "source": [
        "x_test = np.array(['Not feeling good'])\n",
        "X_test_indices = sentences_to_indices(x_test, word_to_index, maxLen)\n",
        "print(x_test[0] +' '+  label_to_emoji(np.argmax(model.predict(X_test_indices))))"
      ],
      "metadata": {
        "colab": {
          "base_uri": "https://localhost:8080/"
        },
        "id": "KjCqRCmmnVzY",
        "outputId": "64cf4808-47a2-47dd-9c5b-acae3541353d"
      },
      "execution_count": 30,
      "outputs": [
        {
          "output_type": "stream",
          "name": "stdout",
          "text": [
            "Not feeling good 😞\n"
          ]
        }
      ]
    },
    {
      "cell_type": "code",
      "execution_count": 31,
      "metadata": {
        "id": "ktmuFn-zxDEm",
        "outputId": "a799ac18-ce50-4408-d5cb-e7a88330ae6a",
        "colab": {
          "base_uri": "https://localhost:8080/"
        }
      },
      "outputs": [
        {
          "output_type": "stream",
          "name": "stdout",
          "text": [
            "My mother is happy ❤️\n"
          ]
        }
      ],
      "source": [
        "x_test = np.array(['My mother is happy'])\n",
        "X_test_indices = sentences_to_indices(x_test, word_to_index, maxLen)\n",
        "print(x_test[0] +' '+  label_to_emoji(np.argmax(model.predict(X_test_indices))))"
      ]
    }
  ],
  "metadata": {
    "colab": {
      "name": "Emojify.ipynb",
      "provenance": [],
      "collapsed_sections": [
        "-bvhHWW8pUGR",
        "lTllGdnoog5z",
        "6EHyr2pQpI8p"
      ]
    },
    "kernelspec": {
      "display_name": "Python 3",
      "language": "python",
      "name": "python3"
    },
    "language_info": {
      "codemirror_mode": {
        "name": "ipython",
        "version": 3
      },
      "file_extension": ".py",
      "mimetype": "text/x-python",
      "name": "python",
      "nbconvert_exporter": "python",
      "pygments_lexer": "ipython3",
      "version": "3.7.3"
    }
  },
  "nbformat": 4,
  "nbformat_minor": 0
}